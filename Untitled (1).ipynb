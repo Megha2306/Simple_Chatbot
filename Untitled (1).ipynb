{
 "cells": [
  {
   "cell_type": "code",
   "execution_count": 1,
   "id": "0594ccf8",
   "metadata": {},
   "outputs": [
    {
     "name": "stdout",
     "output_type": "stream",
     "text": [
      "Hello! How can I assist you today?\n"
     ]
    }
   ],
   "source": [
    "def greet():\n",
    "    return \"Hello! How can I assist you today?\"\n",
    "\n",
    "print(greet())\n"
   ]
  },
  {
   "cell_type": "code",
   "execution_count": 2,
   "id": "9df1b34e",
   "metadata": {},
   "outputs": [
    {
     "name": "stdout",
     "output_type": "stream",
     "text": [
      "I'm a chatbot, so I'm always good!\n",
      "Why don't scientists trust atoms? Because they make up everything!\n"
     ]
    }
   ],
   "source": [
    "def respond_to_question(question):\n",
    "    responses = {\n",
    "        \"how are you?\": \"I'm a chatbot, so I'm always good!\",\n",
    "        \"what is your name?\": \"I'm ChatGPT, your virtual assistant.\",\n",
    "        \"what can you do?\": \"I can chat with you, answer basic questions, and remember some details about our conversation.\",\n",
    "        \"tell me a joke\": \"Why don't scientists trust atoms? Because they make up everything!\",\n",
    "        \"what is the weather like?\": \"I'm not connected to the internet, so I can't provide real-time weather updates, but I can chat with you about it!\"\n",
    "    }\n",
    "    return responses.get(question.lower(), \"I'm not sure how to respond to that. Can you ask something else?\")\n",
    "\n",
    "print(respond_to_question(\"how are you?\"))\n",
    "print(respond_to_question(\"tell me a joke\"))\n"
   ]
  },
  {
   "cell_type": "code",
   "execution_count": 1,
   "id": "a3c649b1",
   "metadata": {},
   "outputs": [
    {
     "name": "stdout",
     "output_type": "stream",
     "text": [
      "Goodbye! Have a great day!\n"
     ]
    }
   ],
   "source": [
    "def farewell():\n",
    "    return \"Goodbye! Have a great day!\"\n",
    "\n",
    "print(farewell())\n"
   ]
  },
  {
   "cell_type": "code",
   "execution_count": 4,
   "id": "e0f5328a",
   "metadata": {},
   "outputs": [
    {
     "name": "stdout",
     "output_type": "stream",
     "text": [
      "I'm a chatbot, so I'm always good!\n",
      "Why don't scientists trust atoms? Because they make up everything!\n",
      "I'm a chatbot, so I'm always good!\n"
     ]
    }
   ],
   "source": [
    "class SimpleChatbot:\n",
    "    def __init__(self):\n",
    "        self.memory = {}\n",
    "    \n",
    "    def remember(self, user_input, response):\n",
    "        self.memory[user_input] = response\n",
    "    \n",
    "    def recall(self, user_input):\n",
    "        return self.memory.get(user_input, \"I don't remember that conversation.\")\n",
    "    \n",
    "    def interact(self, user_input):\n",
    "        if user_input in self.memory:\n",
    "            return self.recall(user_input)\n",
    "        else:\n",
    "            response = respond_to_question(user_input)\n",
    "            self.remember(user_input, response)\n",
    "            return response\n",
    "\n",
    "chatbot = SimpleChatbot()\n",
    "print(chatbot.interact(\"how are you?\"))\n",
    "print(chatbot.interact(\"tell me a joke\"))\n",
    "print(chatbot.interact(\"how are you?\"))\n"
   ]
  },
  {
   "cell_type": "code",
   "execution_count": 9,
   "id": "35b0803e",
   "metadata": {},
   "outputs": [
    {
     "name": "stdout",
     "output_type": "stream",
     "text": [
      "Chatbot: What's your name?\n",
      "You: how are you?\n",
      "Chatbot: I'm a chatbot, so I'm always good!\n",
      "Chatbot: How old are you?\n",
      "You: bhj\n",
      "Chatbot: I'm not sure how to respond to that. Can you ask something else?\n",
      "Chatbot: What is your favorite color?\n",
      "You:  bj\n",
      "Chatbot: I'm not sure how to respond to that. Can you ask something else?\n"
     ]
    }
   ],
   "source": [
    "def chatbot_asks():\n",
    "    questions = [\n",
    "        \"What's your name?\",\n",
    "        \"How old are you?\",\n",
    "        \"What is your favorite color?\"\n",
    "    ]\n",
    "    return questions\n",
    "\n",
    "def user_interaction():\n",
    "    chatbot = SimpleChatbot()\n",
    "    questions = chatbot_asks()\n",
    "    \n",
    "    for question in questions:\n",
    "        print(f\"Chatbot: {question}\")\n",
    "        user_response = input(\"You: \")\n",
    "        print(f\"Chatbot: {chatbot.interact(user_response)}\")\n",
    "\n",
    "user_interaction()\n"
   ]
  },
  {
   "cell_type": "code",
   "execution_count": 6,
   "id": "00856b92",
   "metadata": {},
   "outputs": [
    {
     "name": "stdout",
     "output_type": "stream",
     "text": [
      "I'm a chatbot, so I'm always good!\n",
      "Why don't scientists trust atoms? Because they make up everything!\n",
      "I'm a chatbot, so I'm always good!\n"
     ]
    }
   ],
   "source": [
    "def safe_respond_to_question(question):\n",
    "    try:\n",
    "        return respond_to_question(question)\n",
    "    except Exception as e:\n",
    "        return f\"Sorry, something went wrong: {e}\"\n",
    "\n",
    "class SafeSimpleChatbot(SimpleChatbot):\n",
    "    def interact(self, user_input):\n",
    "        if user_input in self.memory:\n",
    "            return self.recall(user_input)\n",
    "        else:\n",
    "            try:\n",
    "                response = safe_respond_to_question(user_input)\n",
    "                self.remember(user_input, response)\n",
    "                return response\n",
    "            except Exception as e:\n",
    "                return f\"Sorry, something went wrong: {e}\"\n",
    "\n",
    "chatbot = SafeSimpleChatbot()\n",
    "print(chatbot.interact(\"how are you?\"))\n",
    "print(chatbot.interact(\"tell me a joke\"))\n",
    "print(chatbot.interact(\"how are you?\"))\n"
   ]
  },
  {
   "cell_type": "code",
   "execution_count": 2,
   "id": "b96ee5f6",
   "metadata": {},
   "outputs": [
    {
     "name": "stdout",
     "output_type": "stream",
     "text": [
      "Hello! How can I assist you today?\n",
      "You: what can you do?\n",
      "Chatbot: I can chat with you, answer basic questions, and remember some details about our conversation.\n",
      "You: really?\n",
      "Chatbot: I'm not sure how to respond to that. Can you ask something else?\n",
      "You: what did i ask you previously?\n",
      "Chatbot: I'm not sure how to respond to that. Can you ask something else?\n",
      "You: fne\n",
      "Chatbot: I'm not sure how to respond to that. Can you ask something else?\n",
      "You: what is the weather today?\n",
      "Chatbot: I'm not sure how to respond to that. Can you ask something else?\n",
      "You: how is the weather today?\n",
      "Chatbot: I'm not sure how to respond to that. Can you ask something else?\n",
      "You: what is the weather like?\n",
      "Chatbot: I'm not connected to the internet, so I can't provide real-time weather updates, but I can chat with you about it!\n",
      "You: hmm\n",
      "Chatbot: I'm not sure how to respond to that. Can you ask something else?\n",
      "You: why\n",
      "Chatbot: I'm not sure how to respond to that. Can you ask something else?\n",
      "You: farewell\n",
      "Chatbot: I'm not sure how to respond to that. Can you ask something else?\n",
      "You: bye bye\n",
      "Chatbot: I'm not sure how to respond to that. Can you ask something else?\n",
      "You: bye\n",
      "Goodbye! Have a great day!\n"
     ]
    }
   ],
   "source": [
    "class SimpleChatbot:\n",
    "    def __init__(self):\n",
    "        self.memory = {}\n",
    "\n",
    "    def remember(self, user_input, response):\n",
    "        self.memory[user_input] = response\n",
    "\n",
    "    def recall(self, user_input):\n",
    "        return self.memory.get(user_input, \"I don't remember that conversation.\")\n",
    "\n",
    "    def interact(self, user_input):\n",
    "        if user_input in self.memory:\n",
    "            return self.recall(user_input)\n",
    "        else:\n",
    "            response = self.respond_to_question(user_input)\n",
    "            self.remember(user_input, response)\n",
    "            return response\n",
    "\n",
    "    def respond_to_question(self, question):\n",
    "        responses = {\n",
    "            \"how are you?\": \"I'm a chatbot, so I'm always good!\",\n",
    "            \"what is your name?\": \"I'm ChatGPT, your virtual assistant.\",\n",
    "            \"what can you do?\": \"I can chat with you, answer basic questions, and remember some details about our conversation.\",\n",
    "            \"tell me a joke\": \"Why don't scientists trust atoms? Because they make up everything!\",\n",
    "            \"what is the weather like?\": \"I'm not connected to the internet, so I can't provide real-time weather updates, but I can chat with you about it!\"\n",
    "        }\n",
    "        return responses.get(question.lower(), \"I'm not sure how to respond to that. Can you ask something else?\")\n",
    "\n",
    "    def greet(self):\n",
    "        return \"Hello! How can I assist you today?\"\n",
    "\n",
    "    def farewell(self):\n",
    "        return \"Goodbye! Have a great day!\"\n",
    "\n",
    "def user_interaction():\n",
    "    chatbot = SimpleChatbot()\n",
    "    print(chatbot.greet())\n",
    "    \n",
    "    while True:\n",
    "        user_input = input(\"You: \")\n",
    "        if user_input.lower() in [\"bye\", \"goodbye\", \"exit\"]:\n",
    "            print(chatbot.farewell())\n",
    "            break\n",
    "        else:\n",
    "            print(f\"Chatbot: {chatbot.interact(user_input)}\")\n",
    "\n",
    "# Run the chatbot interaction\n",
    "user_interaction()\n"
   ]
  },
  {
   "cell_type": "code",
   "execution_count": 1,
   "id": "38e68d86",
   "metadata": {},
   "outputs": [
    {
     "name": "stdout",
     "output_type": "stream",
     "text": [
      "Hello! How can I assist you today?\n",
      "You: how are you?\n",
      "Chatbot: I'm a chatbot, so I'm always good!\n",
      "You: byeeeee\n",
      "Chatbot: I'm not sure how to respond to that. Can you ask something else?\n",
      "You: bye\n",
      "Goodbye! Have a great day!\n"
     ]
    }
   ],
   "source": [
    "class SimpleChatbot:\n",
    "    def __init__(self):\n",
    "        self.memory = {}\n",
    "\n",
    "    def remember(self, user_input, response):\n",
    "        self.memory[user_input] = response\n",
    "\n",
    "    def recall(self, user_input):\n",
    "        return self.memory.get(user_input, \"I don't remember that conversation.\")\n",
    "\n",
    "    def interact(self, user_input):\n",
    "        if user_input in self.memory:\n",
    "            return self.recall(user_input)\n",
    "        else:\n",
    "            response = self.respond_to_question(user_input)\n",
    "            self.remember(user_input, response)\n",
    "            return response\n",
    "\n",
    "    def respond_to_question(self, question):\n",
    "        responses = {\n",
    "            \"how are you?\": \"I'm a chatbot, so I'm always good!\",\n",
    "            \"what is your name?\": \"I'm ChatGPT, your virtual assistant.\",\n",
    "            \"what can you do?\": \"I can chat with you, answer basic questions, and remember some details about our conversation.\",\n",
    "            \"tell me a joke\": \"Why don't scientists trust atoms? Because they make up everything!\",\n",
    "            \"what is the weather like?\": \"I'm not connected to the internet, so I can't provide real-time weather updates, but I can chat with you about it!\"\n",
    "        }\n",
    "        return responses.get(question.lower(), \"I'm not sure how to respond to that. Can you ask something else?\")\n",
    "\n",
    "    def greet(self):\n",
    "        return \"Hello! How can I assist you today?\"\n",
    "\n",
    "    def farewell(self):\n",
    "        return \"Goodbye! Have a great day!\"\n",
    "\n",
    "def user_interaction():\n",
    "    chatbot = SimpleChatbot()\n",
    "    print(chatbot.greet())\n",
    "    \n",
    "    while True:\n",
    "        user_input = input(\"You: \")\n",
    "        if user_input.lower() in [\"bye\", \"goodbye\", \"exit\"]:\n",
    "            print(chatbot.farewell())\n",
    "            break\n",
    "        else:\n",
    "            print(f\"Chatbot: {chatbot.interact(user_input)}\")\n",
    "\n",
    "# Run the chatbot interaction\n",
    "user_interaction()\n"
   ]
  },
  {
   "cell_type": "code",
   "execution_count": null,
   "id": "08a228eb",
   "metadata": {},
   "outputs": [],
   "source": []
  }
 ],
 "metadata": {
  "kernelspec": {
   "display_name": "Python 3 (ipykernel)",
   "language": "python",
   "name": "python3"
  },
  "language_info": {
   "codemirror_mode": {
    "name": "ipython",
    "version": 3
   },
   "file_extension": ".py",
   "mimetype": "text/x-python",
   "name": "python",
   "nbconvert_exporter": "python",
   "pygments_lexer": "ipython3",
   "version": "3.9.13"
  }
 },
 "nbformat": 4,
 "nbformat_minor": 5
}
